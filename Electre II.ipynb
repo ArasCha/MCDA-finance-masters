{
 "cells": [
  {
   "cell_type": "markdown",
   "metadata": {},
   "source": [
    "## Data importation"
   ]
  },
  {
   "cell_type": "code",
   "execution_count": 1,
   "metadata": {},
   "outputs": [
    {
     "name": "stderr",
     "output_type": "stream",
     "text": [
      "C:\\Users\\Travail\\AppData\\Local\\Temp\\ipykernel_12688\\3537920797.py:1: DeprecationWarning: \n",
      "Pyarrow will become a required dependency of pandas in the next major release of pandas (pandas 3.0),\n",
      "(to allow more performant data types, such as the Arrow string type, and better interoperability with other libraries)\n",
      "but was not found to be installed on your system.\n",
      "If this would cause problems for you,\n",
      "please provide us feedback at https://github.com/pandas-dev/pandas/issues/54466\n",
      "        \n",
      "  import pandas as pd\n"
     ]
    }
   ],
   "source": [
    "import pandas as pd\n",
    "import numpy as np\n",
    "\n",
    "data_raw = pd.read_csv(\"data.csv\", delimiter=\";\")\n",
    "data = np.array(data_raw)\n",
    "\n",
    "weights = [4, 3, 5, 3, 5, 1, 12, 9]"
   ]
  },
  {
   "cell_type": "markdown",
   "metadata": {},
   "source": [
    "## First application of ELECTRE II"
   ]
  },
  {
   "cell_type": "code",
   "execution_count": 10,
   "metadata": {},
   "outputs": [
    {
     "data": {
      "image/png": "[encoded data removed]",
      "text/plain": [
       "<Figure size 640x480 with 1 Axes>"
      ]
     },
     "metadata": {},
     "output_type": "display_data"
    }
   ],
   "source": [
    "from pyDecision.algorithm import electre_ii\n",
    "\n",
    "\n",
    "c_minus = 0.65\n",
    "c_zero  = 0.75\n",
    "c_plus  = 0.85\n",
    "\n",
    "d_minus = 0.25\n",
    "d_plus  = 0.50\n",
    "\n",
    "concordance, discordance, dominance_s, dominance_w, rank_D, rank_A, rank_N, rank_P = electre_ii(data, W = weights, c_minus = c_minus, c_zero = c_zero, c_plus = c_plus, d_minus = d_minus, d_plus = d_plus, graph = True)"
   ]
  },
  {
   "cell_type": "markdown",
   "metadata": {},
   "source": [
    "## Robustness study"
   ]
  },
  {
   "cell_type": "code",
   "execution_count": 17,
   "metadata": {},
   "outputs": [],
   "source": [
    "\n",
    "values = {\n",
    "\t\"a1\": [0, 0, 0, 0, 0],\n",
    "\t\"a2\": [0, 0, 0, 0, 0],\n",
    "\t\"a3\": [0, 0, 0, 0, 0],\n",
    "\t\"a4\": [0, 0, 0, 0, 0],\n",
    "\t\"a5\": [0, 0, 0, 0, 0]\n",
    "}\n",
    "\n",
    "ranks = []\n",
    "for c_minus in np.arange(0, 1.1, 0.1):\n",
    "\n",
    "\tfor c_zero in np.arange(0, 1.1, 0.1):\n",
    "\n",
    "\t\tfor c_plus in np.arange(0, 1.1, 0.1):\n",
    "\n",
    "\t\t\tfor d_minus in np.arange(0, 1.1, 0.1):\n",
    "\n",
    "\t\t\t\tfor d_plus in np.arange(0, 1.1, 0.1):\n",
    "\t\t\t\t\t\n",
    "\t\t\t\t\ttry:\n",
    "\t\t\t\t\t\tconcordance, discordance, dominance_s, dominance_w, rank_D, rank_A, rank_N, rank_P = electre_ii(data, W = weights, c_minus = c_minus, c_zero = c_zero, c_plus = c_plus, d_minus = d_minus, d_plus = d_plus, graph = False)\n",
    "\t\t\t\t\t\tranks.extend(rank_D)\n",
    "\t\t\t\t\t\t\n",
    "\t\t\t\t\t\tfor position in range(len(rank_D)):\n",
    "\t\t\t\t\t\t\tfor action in rank_D[position]:\n",
    "\t\t\t\t\t\t\t\tvalues[action][position] +=1\n",
    "\n",
    "\t\t\t\t\texcept IndexError:\n",
    "\t\t\t\t\t\tpass"
   ]
  },
  {
   "cell_type": "code",
   "execution_count": 18,
   "metadata": {},
   "outputs": [
    {
     "data": {
      "text/plain": [
       "{'a1': [26915, 82768, 51368, 0, 0],\n",
       " 'a2': [2075, 66856, 92120, 0, 0],\n",
       " 'a3': [147691, 12880, 480, 0, 0],\n",
       " 'a4': [14019, 22184, 53976, 70872, 0],\n",
       " 'a5': [2075, 12880, 21248, 53976, 70872]}"
      ]
     },
     "execution_count": 18,
     "metadata": {},
     "output_type": "execute_result"
    }
   ],
   "source": [
    "\n",
    "\n",
    "values\n"
   ]
  },
  {
   "cell_type": "code",
   "execution_count": 22,
   "metadata": {},
   "outputs": [
    {
     "data": {
      "text/plain": [
       "{'a1': 2.151833891127655,\n",
       " 'a2': 2.5591086053486163,\n",
       " 'a3': 1.085935511111387,\n",
       " 'a4': 3.1282202532117154,\n",
       " 'a5': 4.109524312174404}"
      ]
     },
     "execution_count": 22,
     "metadata": {},
     "output_type": "execute_result"
    }
   ],
   "source": [
    "import copy\n",
    "general_ranks = copy.copy(values)\n",
    "\n",
    "for key, value in general_ranks.items():\n",
    "\tgeneral_ranks[key] = np.dot(general_ranks[key], [1, 2, 3, 4, 5])/np.sum(general_ranks[key])\n",
    "\n",
    "general_ranks"
   ]
  }
 ],
 "metadata": {
  "kernelspec": {
   "display_name": "env",
   "language": "python",
   "name": "python3"
  },
  "language_info": {
   "codemirror_mode": {
    "name": "ipython",
    "version": 3
   },
   "file_extension": ".py",
   "mimetype": "text/x-python",
   "name": "python",
   "nbconvert_exporter": "python",
   "pygments_lexer": "ipython3",
   "version": "3.10.9"
  }
 },
 "nbformat": 4,
 "nbformat_minor": 2
}
